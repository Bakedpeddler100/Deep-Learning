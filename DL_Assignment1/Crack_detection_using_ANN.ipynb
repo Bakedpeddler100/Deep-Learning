{
  "cells": [
    {
      "cell_type": "markdown",
      "source": [
        "Simple neural network\n",
        "\n",
        "Goal : to use the Keras deep learning library to train our first neural network on a image dataset."
      ],
      "metadata": {
        "id": "usWZUkY5Z5dS"
      },
      "id": "usWZUkY5Z5dS"
    },
    {
      "cell_type": "markdown",
      "source": [
        "1.    Importing keras and other packages."
      ],
      "metadata": {
        "id": "4XsgGUtVZ-br"
      },
      "id": "4XsgGUtVZ-br"
    },
    {
      "cell_type": "code",
      "execution_count": null,
      "id": "8cf75ea4",
      "metadata": {
        "id": "8cf75ea4"
      },
      "outputs": [],
      "source": [
        "import matplotlib as plt\n",
        "import matplotlib.pyplot as plt\n",
        "plt.style.use('ggplot')\n",
        "%matplotlib inline\n",
        "from sklearn.preprocessing import LabelBinarizer\n",
        "from sklearn.model_selection import train_test_split\n",
        "from sklearn.metrics import classification_report\n",
        "from keras.models import Sequential\n",
        "from keras.layers.core import Dense\n",
        "from tensorflow.keras.optimizers import SGD\n",
        "from imutils import paths\n",
        "import matplotlib.pyplot as plt\n",
        "import numpy as np\n",
        "import random\n",
        "import pickle\n",
        "import os\n",
        "import cv2\n",
        "import os\n",
        "import time   # time1 = time.time(); print('Time taken: {:.1f} seconds'.format(time.time() - time1))\n",
        "import warnings\n",
        "warnings.filterwarnings(\"ignore\")\n",
        "SEED = 42   # set random seed"
      ]
    },
    {
      "cell_type": "markdown",
      "source": [
        "## **Storing the categories in list_categories list variable**"
      ],
      "metadata": {
        "id": "OmqqS_79aHtP"
      },
      "id": "OmqqS_79aHtP"
    },
    {
      "cell_type": "code",
      "execution_count": null,
      "id": "b60e0560",
      "metadata": {
        "id": "b60e0560"
      },
      "outputs": [],
      "source": [
        "path = 'D:\\\\sem6\\\\DeppLearning\\\\Concrete Crack Images for Classification'\n",
        "list_categories=[]\n",
        "for path in os.listdir(path):\n",
        "            if 'desktop.ini' in path:\n",
        "                pass\n",
        "            else:\n",
        "               list_categories.append(path)"
      ]
    },
    {
      "cell_type": "code",
      "execution_count": null,
      "id": "663db36e",
      "metadata": {
        "id": "663db36e"
      },
      "outputs": [],
      "source": [
        "data = []\n",
        "labels = []\n",
        "imagePaths=  sorted(paths.list_images('D:\\\\sem6\\\\DeppLearning\\\\Concrete Crack Images for Classification'))\n",
        "random.seed(SEED)\n",
        "random.shuffle(imagePaths)"
      ]
    },
    {
      "cell_type": "markdown",
      "source": [
        "2.   Loading the data"
      ],
      "metadata": {
        "id": "apqT9pQuafzs"
      },
      "id": "apqT9pQuafzs"
    },
    {
      "cell_type": "code",
      "execution_count": null,
      "id": "b5c3f2b8",
      "metadata": {
        "id": "b5c3f2b8",
        "outputId": "b4a6db06-57bd-4c6e-cbd7-2d89a8d92d2e"
      },
      "outputs": [
        {
          "name": "stdout",
          "output_type": "stream",
          "text": [
            "image-separation-started\n",
            "image-separation-ended\n"
          ]
        }
      ],
      "source": [
        "print(\"image-separation-started\")\n",
        "# loop over the input images\n",
        "for imagePath in imagePaths:\n",
        "    # load the image, resize the image to be 32x32 pixels (ignoring aspect ratio), \n",
        "    # flatten the 32x32x3=3072 pixel image into a list, and store the image in the data list\n",
        "    image = cv2.imread(imagePath)\n",
        "    image = cv2.resize(image, (32, 32)).flatten()\n",
        "    data.append(image)\n",
        "        # extract the class label from the image path and update the labels list\n",
        "    label = imagePath.split(os.path.sep)[-2]\n",
        "    labels.append(label)\n",
        "print(\"image-separation-ended\")\n",
        "\n"
      ]
    },
    {
      "cell_type": "markdown",
      "source": [
        "## **Normalizing the dataset**"
      ],
      "metadata": {
        "id": "1VK5pkz9akhZ"
      },
      "id": "1VK5pkz9akhZ"
    },
    {
      "cell_type": "code",
      "execution_count": null,
      "id": "6af21f2a",
      "metadata": {
        "id": "6af21f2a"
      },
      "outputs": [],
      "source": [
        "# scale the raw pixel intensities to the range [0, 1]\n",
        "data = np.array(data, dtype=\"float\") / 255.0\n",
        "labels = np.array(labels)"
      ]
    },
    {
      "cell_type": "markdown",
      "source": [
        "3.   Creating the training and testing splits"
      ],
      "metadata": {
        "id": "A-rhbSwTap-G"
      },
      "id": "A-rhbSwTap-G"
    },
    {
      "cell_type": "code",
      "execution_count": null,
      "id": "bf0ef854",
      "metadata": {
        "id": "bf0ef854"
      },
      "outputs": [],
      "source": [
        "# partition the data into 80% training and 20% validation\n",
        "(trainX, testX, trainY, testY) = train_test_split(data, labels, test_size=0.2, random_state=SEED)"
      ]
    },
    {
      "cell_type": "code",
      "execution_count": null,
      "id": "f0f1aa2e",
      "metadata": {
        "id": "f0f1aa2e",
        "outputId": "f81ea7c8-1213-4d19-cefb-2cc7a874b79c"
      },
      "outputs": [
        {
          "data": {
            "text/plain": [
              "array([[0.63529412, 0.70588235, 0.74901961, ..., 0.69411765, 0.78039216,\n",
              "        0.82352941],\n",
              "       [0.7254902 , 0.73333333, 0.7372549 , ..., 0.61568627, 0.62352941,\n",
              "        0.63921569],\n",
              "       [0.70196078, 0.69803922, 0.70588235, ..., 0.59215686, 0.59215686,\n",
              "        0.59215686],\n",
              "       ...,\n",
              "       [0.54901961, 0.59607843, 0.60392157, ..., 0.62745098, 0.64705882,\n",
              "        0.65098039],\n",
              "       [0.38431373, 0.41568627, 0.41568627, ..., 0.38431373, 0.40392157,\n",
              "        0.41568627],\n",
              "       [0.63921569, 0.68627451, 0.70196078, ..., 0.63921569, 0.70196078,\n",
              "        0.72941176]])"
            ]
          },
          "execution_count": 9,
          "metadata": {},
          "output_type": "execute_result"
        }
      ],
      "source": [
        "trainX\n"
      ]
    },
    {
      "cell_type": "code",
      "execution_count": null,
      "id": "739bcd4b",
      "metadata": {
        "id": "739bcd4b",
        "outputId": "0bad5d55-a8ea-4109-cfd4-32e06073ef64"
      },
      "outputs": [
        {
          "data": {
            "text/plain": [
              "array(['Negative', 'Positive', 'Positive', ..., 'Positive', 'Positive',\n",
              "       'Negative'], dtype='<U8')"
            ]
          },
          "execution_count": 10,
          "metadata": {},
          "output_type": "execute_result"
        }
      ],
      "source": [
        "trainY"
      ]
    },
    {
      "cell_type": "code",
      "execution_count": null,
      "id": "4001860a",
      "metadata": {
        "id": "4001860a"
      },
      "outputs": [],
      "source": [
        "# convert the labels from integers/categories to vectors \n",
        "# (for 2-class, binary classification you should use Keras' to_categorical function instead)\n",
        "lb = LabelBinarizer()\n",
        "trainY = lb.fit_transform(trainY)   # fit_transform = find all unique class labels + transform into one-hot encoded labels\n",
        "testY = lb.transform(testY)         # transform = perform the one-hot encoding (unique class labels already found)"
      ]
    },
    {
      "cell_type": "code",
      "execution_count": null,
      "id": "bedf31f2",
      "metadata": {
        "id": "bedf31f2"
      },
      "outputs": [],
      "source": [
        "from keras.utils.all_utils import to_categorical\n",
        "\n",
        "trainY=to_categorical(trainY)\n",
        "testY=to_categorical(testY)\n",
        "\n",
        "#softmax,categorical_crossentropy"
      ]
    },
    {
      "cell_type": "code",
      "execution_count": null,
      "id": "34957855",
      "metadata": {
        "id": "34957855",
        "outputId": "b72c280c-52ac-4c19-fc79-0ebc3c0ddbe8"
      },
      "outputs": [
        {
          "data": {
            "text/plain": [
              "array([[1., 0.],\n",
              "       [0., 1.],\n",
              "       [0., 1.],\n",
              "       ...,\n",
              "       [0., 1.],\n",
              "       [0., 1.],\n",
              "       [1., 0.]], dtype=float32)"
            ]
          },
          "execution_count": 13,
          "metadata": {},
          "output_type": "execute_result"
        }
      ],
      "source": [
        "trainY"
      ]
    },
    {
      "cell_type": "code",
      "execution_count": null,
      "id": "9f4708a0",
      "metadata": {
        "id": "9f4708a0",
        "outputId": "cfa80921-555a-4121-a0b8-6839455f46c3"
      },
      "outputs": [
        {
          "data": {
            "text/plain": [
              "array([[1., 0.],\n",
              "       [0., 1.],\n",
              "       [0., 1.],\n",
              "       ...,\n",
              "       [0., 1.],\n",
              "       [0., 1.],\n",
              "       [1., 0.]], dtype=float32)"
            ]
          },
          "execution_count": 14,
          "metadata": {},
          "output_type": "execute_result"
        }
      ],
      "source": [
        "trainY"
      ]
    },
    {
      "cell_type": "markdown",
      "source": [
        "4.   Defining the Keras model architecture"
      ],
      "metadata": {
        "id": "qca_2lUJawox"
      },
      "id": "qca_2lUJawox"
    },
    {
      "cell_type": "code",
      "execution_count": null,
      "id": "1c71b201",
      "metadata": {
        "id": "1c71b201"
      },
      "outputs": [],
      "source": [
        "model = Sequential()   # input layer 3072 as there are 32x32x3=3072 pixels in a flattened input image\n",
        "model.add(Dense(1024, input_shape=(3072,), activation=\"sigmoid\"))   # first hidden layer has 1024 nodes\n",
        "model.add(Dense(512, activation=\"sigmoid\"))                         # second hidden layer has 512 nodes\n",
        "model.add(Dense(len(lb.classes_), activation=\"softmax\"))            # output layer with number of possible class labels"
      ]
    },
    {
      "cell_type": "markdown",
      "source": [
        "5.   Compiling the Keras model"
      ],
      "metadata": {
        "id": "bsVmuRE4a2Qz"
      },
      "id": "bsVmuRE4a2Qz"
    },
    {
      "cell_type": "code",
      "execution_count": null,
      "id": "4f42e666",
      "metadata": {
        "id": "4f42e666"
      },
      "outputs": [],
      "source": [
        "# initialize our initial learning rate and # of epochs to train for\n",
        "INIT_LR = 0.01\n",
        "EPOCHS = 60\n",
        " \n",
        "opt = SGD(lr=INIT_LR)  \n",
        "#model.compile(loss=\"categorical_crossentropy\", optimizer=opt, metrics=[\"accuracy\"])\n",
        "\n",
        "model.compile(optimizer=\"Adam\", loss='categorical_crossentropy', metrics=[\"accuracy\"])"
      ]
    },
    {
      "cell_type": "markdown",
      "source": [
        "6.   Training your model on your training data"
      ],
      "metadata": {
        "id": "ZOyhvoDxa7hU"
      },
      "id": "ZOyhvoDxa7hU"
    },
    {
      "cell_type": "code",
      "execution_count": null,
      "id": "6661f76d",
      "metadata": {
        "id": "6661f76d",
        "outputId": "41f8f9e0-d42e-4c8c-c23e-41f04b5ddccc"
      },
      "outputs": [
        {
          "name": "stdout",
          "output_type": "stream",
          "text": [
            "started\n",
            "Epoch 1/60\n",
            "1000/1000 [==============================] - 85s 51ms/step - loss: 0.6324 - accuracy: 0.6503 - val_loss: 0.3902 - val_accuracy: 0.8366\n",
            "Epoch 2/60\n",
            "1000/1000 [==============================] - 43s 43ms/step - loss: 0.3594 - accuracy: 0.8534 - val_loss: 0.2868 - val_accuracy: 0.8863\n",
            "Epoch 3/60\n",
            "1000/1000 [==============================] - 55s 55ms/step - loss: 0.3124 - accuracy: 0.8804 - val_loss: 0.3560 - val_accuracy: 0.8577\n",
            "Epoch 4/60\n",
            "1000/1000 [==============================] - 44s 44ms/step - loss: 0.2810 - accuracy: 0.8930 - val_loss: 0.2267 - val_accuracy: 0.9187\n",
            "Epoch 5/60\n",
            "1000/1000 [==============================] - 50s 50ms/step - loss: 0.2656 - accuracy: 0.9015 - val_loss: 0.2298 - val_accuracy: 0.9186\n",
            "Epoch 6/60\n",
            "1000/1000 [==============================] - 49s 49ms/step - loss: 0.2384 - accuracy: 0.9118 - val_loss: 0.2379 - val_accuracy: 0.9049\n",
            "Epoch 7/60\n",
            "1000/1000 [==============================] - 54s 54ms/step - loss: 0.2506 - accuracy: 0.9077 - val_loss: 0.2561 - val_accuracy: 0.9039\n",
            "Epoch 8/60\n",
            "1000/1000 [==============================] - 60s 60ms/step - loss: 0.2284 - accuracy: 0.9191 - val_loss: 0.2753 - val_accuracy: 0.8924\n",
            "Epoch 9/60\n",
            "1000/1000 [==============================] - 51s 51ms/step - loss: 0.2420 - accuracy: 0.9143 - val_loss: 0.2138 - val_accuracy: 0.9166\n",
            "Epoch 10/60\n",
            "1000/1000 [==============================] - 53s 53ms/step - loss: 0.2369 - accuracy: 0.9143 - val_loss: 0.1939 - val_accuracy: 0.9335\n",
            "Epoch 11/60\n",
            "1000/1000 [==============================] - 61s 61ms/step - loss: 0.2193 - accuracy: 0.9225 - val_loss: 0.1891 - val_accuracy: 0.9300\n",
            "Epoch 12/60\n",
            "1000/1000 [==============================] - 60s 60ms/step - loss: 0.2144 - accuracy: 0.9245 - val_loss: 0.1955 - val_accuracy: 0.9346\n",
            "Epoch 13/60\n",
            "1000/1000 [==============================] - 54s 54ms/step - loss: 0.2201 - accuracy: 0.9218 - val_loss: 0.2438 - val_accuracy: 0.9041\n",
            "Epoch 14/60\n",
            "1000/1000 [==============================] - 52s 52ms/step - loss: 0.2264 - accuracy: 0.9185 - val_loss: 0.2234 - val_accuracy: 0.9154\n",
            "Epoch 15/60\n",
            "1000/1000 [==============================] - 44s 44ms/step - loss: 0.2168 - accuracy: 0.9219 - val_loss: 0.1887 - val_accuracy: 0.9330\n",
            "Epoch 16/60\n",
            "1000/1000 [==============================] - 48s 48ms/step - loss: 0.2051 - accuracy: 0.9287 - val_loss: 0.2677 - val_accuracy: 0.9025\n",
            "Epoch 17/60\n",
            "1000/1000 [==============================] - 52s 52ms/step - loss: 0.2171 - accuracy: 0.9215 - val_loss: 0.2050 - val_accuracy: 0.9286\n",
            "Epoch 18/60\n",
            "1000/1000 [==============================] - 52s 52ms/step - loss: 0.2052 - accuracy: 0.9295 - val_loss: 0.1897 - val_accuracy: 0.9341\n",
            "Epoch 19/60\n",
            "1000/1000 [==============================] - 52s 52ms/step - loss: 0.2175 - accuracy: 0.9252 - val_loss: 0.1889 - val_accuracy: 0.9342\n",
            "Epoch 20/60\n",
            "1000/1000 [==============================] - 52s 52ms/step - loss: 0.1987 - accuracy: 0.9315 - val_loss: 0.2081 - val_accuracy: 0.9294\n",
            "Epoch 21/60\n",
            "1000/1000 [==============================] - 41s 41ms/step - loss: 0.2076 - accuracy: 0.9282 - val_loss: 0.1903 - val_accuracy: 0.9334\n",
            "Epoch 22/60\n",
            "1000/1000 [==============================] - 52s 52ms/step - loss: 0.2070 - accuracy: 0.9292 - val_loss: 0.1930 - val_accuracy: 0.9308\n",
            "Epoch 23/60\n",
            "1000/1000 [==============================] - 52s 52ms/step - loss: 0.2060 - accuracy: 0.9295 - val_loss: 0.2173 - val_accuracy: 0.9246\n",
            "Epoch 24/60\n",
            "1000/1000 [==============================] - 55s 55ms/step - loss: 0.2068 - accuracy: 0.9304 - val_loss: 0.1980 - val_accuracy: 0.9305\n",
            "Epoch 25/60\n",
            "1000/1000 [==============================] - 53s 53ms/step - loss: 0.2006 - accuracy: 0.9308 - val_loss: 0.1808 - val_accuracy: 0.9398\n",
            "Epoch 26/60\n",
            "1000/1000 [==============================] - 53s 53ms/step - loss: 0.1944 - accuracy: 0.9342 - val_loss: 0.2134 - val_accuracy: 0.9273\n",
            "Epoch 27/60\n",
            "1000/1000 [==============================] - 52s 52ms/step - loss: 0.1965 - accuracy: 0.9319 - val_loss: 0.1980 - val_accuracy: 0.9287\n",
            "Epoch 28/60\n",
            "1000/1000 [==============================] - 52s 52ms/step - loss: 0.1949 - accuracy: 0.9331 - val_loss: 0.1841 - val_accuracy: 0.9355\n",
            "Epoch 29/60\n",
            "1000/1000 [==============================] - 53s 53ms/step - loss: 0.1957 - accuracy: 0.9322 - val_loss: 0.2012 - val_accuracy: 0.9298\n",
            "Epoch 30/60\n",
            "1000/1000 [==============================] - 52s 52ms/step - loss: 0.1924 - accuracy: 0.9339 - val_loss: 0.1979 - val_accuracy: 0.9312\n",
            "Epoch 31/60\n",
            "1000/1000 [==============================] - 52s 52ms/step - loss: 0.1925 - accuracy: 0.9338 - val_loss: 0.1791 - val_accuracy: 0.9356\n",
            "Epoch 32/60\n",
            "1000/1000 [==============================] - 52s 52ms/step - loss: 0.1899 - accuracy: 0.9375 - val_loss: 0.2089 - val_accuracy: 0.9264\n",
            "Epoch 33/60\n",
            "1000/1000 [==============================] - 52s 52ms/step - loss: 0.1897 - accuracy: 0.9342 - val_loss: 0.1811 - val_accuracy: 0.9385\n",
            "Epoch 34/60\n",
            "1000/1000 [==============================] - 52s 52ms/step - loss: 0.1857 - accuracy: 0.9359 - val_loss: 0.2818 - val_accuracy: 0.9030\n",
            "Epoch 35/60\n",
            "1000/1000 [==============================] - 51s 51ms/step - loss: 0.1957 - accuracy: 0.9327 - val_loss: 0.1663 - val_accuracy: 0.9455\n",
            "Epoch 36/60\n",
            "1000/1000 [==============================] - 51s 51ms/step - loss: 0.1913 - accuracy: 0.9344 - val_loss: 0.1672 - val_accuracy: 0.9429\n",
            "Epoch 37/60\n",
            "1000/1000 [==============================] - 52s 52ms/step - loss: 0.1849 - accuracy: 0.9375 - val_loss: 0.1872 - val_accuracy: 0.9366\n",
            "Epoch 38/60\n",
            "1000/1000 [==============================] - 51s 51ms/step - loss: 0.1836 - accuracy: 0.9377 - val_loss: 0.1866 - val_accuracy: 0.9364\n",
            "Epoch 39/60\n",
            "1000/1000 [==============================] - 52s 52ms/step - loss: 0.2100 - accuracy: 0.9279 - val_loss: 0.1841 - val_accuracy: 0.9348\n",
            "Epoch 40/60\n",
            "1000/1000 [==============================] - 58s 58ms/step - loss: 0.1838 - accuracy: 0.9374 - val_loss: 0.1858 - val_accuracy: 0.9355\n",
            "Epoch 41/60\n",
            "1000/1000 [==============================] - 56s 56ms/step - loss: 0.1816 - accuracy: 0.9379 - val_loss: 0.2149 - val_accuracy: 0.9204\n",
            "Epoch 42/60\n",
            "1000/1000 [==============================] - 55s 55ms/step - loss: 0.1840 - accuracy: 0.9364 - val_loss: 0.2038 - val_accuracy: 0.9249\n",
            "Epoch 43/60\n",
            "1000/1000 [==============================] - 54s 54ms/step - loss: 0.1780 - accuracy: 0.9389 - val_loss: 0.1840 - val_accuracy: 0.9379\n",
            "Epoch 44/60\n",
            "1000/1000 [==============================] - 54s 54ms/step - loss: 0.1784 - accuracy: 0.9394 - val_loss: 0.1645 - val_accuracy: 0.9467\n",
            "Epoch 45/60\n",
            "1000/1000 [==============================] - 54s 54ms/step - loss: 0.1718 - accuracy: 0.9427 - val_loss: 0.1632 - val_accuracy: 0.9461\n",
            "Epoch 46/60\n",
            "1000/1000 [==============================] - 54s 54ms/step - loss: 0.1717 - accuracy: 0.9419 - val_loss: 0.1937 - val_accuracy: 0.9341\n",
            "Epoch 47/60\n",
            "1000/1000 [==============================] - 54s 54ms/step - loss: 0.1770 - accuracy: 0.9405 - val_loss: 0.1904 - val_accuracy: 0.9355\n",
            "Epoch 48/60\n",
            "1000/1000 [==============================] - 54s 54ms/step - loss: 0.1790 - accuracy: 0.9404 - val_loss: 0.1616 - val_accuracy: 0.9454\n",
            "Epoch 49/60\n",
            "1000/1000 [==============================] - 54s 54ms/step - loss: 0.1724 - accuracy: 0.9428 - val_loss: 0.1695 - val_accuracy: 0.9441\n",
            "Epoch 50/60\n",
            "1000/1000 [==============================] - 54s 54ms/step - loss: 0.1800 - accuracy: 0.9380 - val_loss: 0.2011 - val_accuracy: 0.9342\n",
            "Epoch 51/60\n",
            "1000/1000 [==============================] - 56s 56ms/step - loss: 0.1733 - accuracy: 0.9409 - val_loss: 0.1961 - val_accuracy: 0.9383\n",
            "Epoch 52/60\n",
            "1000/1000 [==============================] - 53s 53ms/step - loss: 0.1724 - accuracy: 0.9418 - val_loss: 0.1553 - val_accuracy: 0.9477\n",
            "Epoch 53/60\n",
            "1000/1000 [==============================] - 54s 54ms/step - loss: 0.1605 - accuracy: 0.9465 - val_loss: 0.1924 - val_accuracy: 0.9351\n",
            "Epoch 54/60\n",
            "1000/1000 [==============================] - 54s 54ms/step - loss: 0.1674 - accuracy: 0.9437 - val_loss: 0.1618 - val_accuracy: 0.9446\n",
            "Epoch 55/60\n",
            "1000/1000 [==============================] - 54s 54ms/step - loss: 0.1723 - accuracy: 0.9422 - val_loss: 0.1607 - val_accuracy: 0.9471\n",
            "Epoch 56/60\n"
          ]
        },
        {
          "name": "stdout",
          "output_type": "stream",
          "text": [
            "1000/1000 [==============================] - 54s 54ms/step - loss: 0.1847 - accuracy: 0.9375 - val_loss: 0.1570 - val_accuracy: 0.9471\n",
            "Epoch 57/60\n",
            "1000/1000 [==============================] - 54s 54ms/step - loss: 0.1696 - accuracy: 0.9431 - val_loss: 0.2055 - val_accuracy: 0.9246\n",
            "Epoch 58/60\n",
            "1000/1000 [==============================] - 59s 59ms/step - loss: 0.1737 - accuracy: 0.9401 - val_loss: 0.2366 - val_accuracy: 0.9202\n",
            "Epoch 59/60\n",
            "1000/1000 [==============================] - 54s 54ms/step - loss: 0.1715 - accuracy: 0.9434 - val_loss: 0.2300 - val_accuracy: 0.9175\n",
            "Epoch 60/60\n",
            "1000/1000 [==============================] - 54s 54ms/step - loss: 0.1732 - accuracy: 0.9429 - val_loss: 0.1904 - val_accuracy: 0.9355\n",
            "done\n"
          ]
        }
      ],
      "source": [
        "print(\"started\")\n",
        "H = model.fit(trainX, trainY, validation_data=(testX, testY), epochs=EPOCHS, batch_size=32)\n",
        "print(\"done\")"
      ]
    },
    {
      "cell_type": "markdown",
      "source": [
        "7.   Making predictions using your trained Keras model"
      ],
      "metadata": {
        "id": "k3LPlalqbADr"
      },
      "id": "k3LPlalqbADr"
    },
    {
      "cell_type": "code",
      "execution_count": null,
      "id": "75c7328a",
      "metadata": {
        "id": "75c7328a",
        "outputId": "6e963006-6055-4a29-aae2-5d2fcff6802e",
        "colab": {
          "base_uri": "https://localhost:8080/",
          "height": 252
        }
      },
      "outputs": [
        {
          "output_type": "stream",
          "name": "stdout",
          "text": [
            "evaluating network...\n"
          ]
        },
        {
          "output_type": "error",
          "ename": "NameError",
          "evalue": "ignored",
          "traceback": [
            "\u001b[0;31m---------------------------------------------------------------------------\u001b[0m",
            "\u001b[0;31mNameError\u001b[0m                                 Traceback (most recent call last)",
            "\u001b[0;32m<ipython-input-1-44fa5ff3c5d3>\u001b[0m in \u001b[0;36m<module>\u001b[0;34m()\u001b[0m\n\u001b[1;32m      1\u001b[0m \u001b[0mprint\u001b[0m\u001b[0;34m(\u001b[0m\u001b[0;34m\"evaluating network...\"\u001b[0m\u001b[0;34m)\u001b[0m\u001b[0;34m\u001b[0m\u001b[0;34m\u001b[0m\u001b[0m\n\u001b[0;32m----> 2\u001b[0;31m \u001b[0mpredictions\u001b[0m \u001b[0;34m=\u001b[0m \u001b[0mmodel\u001b[0m\u001b[0;34m.\u001b[0m\u001b[0mpredict\u001b[0m\u001b[0;34m(\u001b[0m\u001b[0mtestX\u001b[0m\u001b[0;34m,\u001b[0m \u001b[0mbatch_size\u001b[0m\u001b[0;34m=\u001b[0m\u001b[0;36m32\u001b[0m\u001b[0;34m)\u001b[0m\u001b[0;34m\u001b[0m\u001b[0;34m\u001b[0m\u001b[0m\n\u001b[0m\u001b[1;32m      3\u001b[0m \u001b[0;31m#print(classification_report(testY.argmax(axis=1), predictions.argmax(axis=1), target_names=lb.classes_))\u001b[0m\u001b[0;34m\u001b[0m\u001b[0;34m\u001b[0m\u001b[0;34m\u001b[0m\u001b[0m\n\u001b[1;32m      4\u001b[0m \u001b[0;31m#print(classification_report(trainY, predictions, target_names=None))\u001b[0m\u001b[0;34m\u001b[0m\u001b[0;34m\u001b[0m\u001b[0;34m\u001b[0m\u001b[0m\n\u001b[1;32m      5\u001b[0m \u001b[0;34m\u001b[0m\u001b[0m\n",
            "\u001b[0;31mNameError\u001b[0m: name 'model' is not defined"
          ]
        }
      ],
      "source": [
        "print(\"evaluating network...\")\n",
        "predictions = model.predict(testX, batch_size=32)\n",
        "#print(classification_report(testY.argmax(axis=1), predictions.argmax(axis=1), target_names=lb.classes_))\n",
        "#print(classification_report(trainY, predictions, target_names=None))\n",
        "\n",
        "cl=classification_report(testY.argmax(axis=1),  predictions.argmax(axis=1), target_names=[\"Positive\", \"Negative\"])"
      ]
    },
    {
      "cell_type": "code",
      "execution_count": null,
      "id": "18dd8533",
      "metadata": {
        "id": "18dd8533",
        "outputId": "e2a8b128-e498-4f4d-95c6-19c72525f4cd"
      },
      "outputs": [
        {
          "name": "stdout",
          "output_type": "stream",
          "text": [
            "              precision    recall  f1-score   support\n",
            "\n",
            "    Positive       0.91      0.97      0.94      4022\n",
            "    Negative       0.97      0.90      0.93      3978\n",
            "\n",
            "    accuracy                           0.94      8000\n",
            "   macro avg       0.94      0.94      0.94      8000\n",
            "weighted avg       0.94      0.94      0.94      8000\n",
            "\n"
          ]
        }
      ],
      "source": [
        "print(cl)"
      ]
    },
    {
      "cell_type": "code",
      "execution_count": null,
      "id": "344448ea",
      "metadata": {
        "id": "344448ea",
        "outputId": "35fa09c5-bcbd-4de5-c8dd-8b23f4c02185"
      },
      "outputs": [
        {
          "data": {
            "image/png": "[encoded data removed]",
            "text/plain": [
              "<Figure size 720x576 with 1 Axes>"
            ]
          },
          "metadata": {},
          "output_type": "display_data"
        }
      ],
      "source": [
        "# plot the training and validation loss\n",
        "N = np.arange(0, EPOCHS)\n",
        "plt.style.use(\"ggplot\")\n",
        "plt.figure(figsize = [10,8])\n",
        "plt.plot(N, H.history[\"loss\"], label=\"train_loss\")\n",
        "plt.plot(N, H.history[\"val_loss\"], label=\"val_loss\")\n",
        "plt.title(\"Training & Validation Loss (Simple NN)\")\n",
        "plt.xlabel(\"Epoch #\", weight=\"bold\")\n",
        "plt.ylabel(\"Loss\", weight=\"bold\")\n",
        "plt.legend()\n",
        "plt.show()"
      ]
    },
    {
      "cell_type": "code",
      "execution_count": null,
      "id": "1fbcf9e6",
      "metadata": {
        "id": "1fbcf9e6",
        "outputId": "2cd283a0-ce5b-4f04-ef48-dbd8fd111f29"
      },
      "outputs": [
        {
          "name": "stdout",
          "output_type": "stream",
          "text": [
            "Model: \"sequential\"\n",
            "_________________________________________________________________\n",
            "Layer (type)                 Output Shape              Param #   \n",
            "=================================================================\n",
            "dense (Dense)                (None, 1024)              3146752   \n",
            "_________________________________________________________________\n",
            "dense_1 (Dense)              (None, 512)               524800    \n",
            "_________________________________________________________________\n",
            "dense_2 (Dense)              (None, 2)                 1026      \n",
            "=================================================================\n",
            "Total params: 3,672,578\n",
            "Trainable params: 3,672,578\n",
            "Non-trainable params: 0\n",
            "_________________________________________________________________\n"
          ]
        }
      ],
      "source": [
        "model.summary()"
      ]
    },
    {
      "cell_type": "code",
      "execution_count": null,
      "id": "934d3fe8",
      "metadata": {
        "id": "934d3fe8",
        "outputId": "a5056603-38e6-4de9-83b8-d2b36f1d4a81"
      },
      "outputs": [
        {
          "name": "stdout",
          "output_type": "stream",
          "text": [
            " serializing network\n"
          ]
        }
      ],
      "source": [
        "print(\" serializing network\")\n",
        "model.save('simple_NN_model.h5')\n",
        "f = open('simple_NN_label_bin', \"wb\")\n",
        "f.write(pickle.dumps(lb))\n",
        "f.close()"
      ]
    },
    {
      "cell_type": "code",
      "execution_count": null,
      "id": "05564ee2",
      "metadata": {
        "id": "05564ee2"
      },
      "outputs": [],
      "source": [
        ""
      ]
    }
  ],
  "metadata": {
    "kernelspec": {
      "display_name": "Python 3",
      "language": "python",
      "name": "python3"
    },
    "language_info": {
      "codemirror_mode": {
        "name": "ipython",
        "version": 3
      },
      "file_extension": ".py",
      "mimetype": "text/x-python",
      "name": "python",
      "nbconvert_exporter": "python",
      "pygments_lexer": "ipython3",
      "version": "3.8.8"
    },
    "colab": {
      "name": "Crack-detection-using-ANN.ipynb",
      "provenance": []
    }
  },
  "nbformat": 4,
  "nbformat_minor": 5
}