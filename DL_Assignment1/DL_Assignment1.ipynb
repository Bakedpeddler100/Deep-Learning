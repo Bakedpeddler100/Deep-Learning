{
  "nbformat": 4,
  "nbformat_minor": 0,
  "metadata": {
    "colab": {
      "name": "DL_Assignment1.ipynb",
      "provenance": []
    },
    "kernelspec": {
      "name": "python3",
      "display_name": "Python 3"
    },
    "language_info": {
      "name": "python"
    }
  },
  "cells": [
    {
      "cell_type": "markdown",
      "source": [
        "# **Deep Learning Programming Assignment**\n",
        "> #### Submitted by: Khyati Gaur (190119) | Grandhi Manasa (190075)"
      ],
      "metadata": {
        "id": "7XpmAK_il3Dd"
      }
    },
    {
      "cell_type": "markdown",
      "source": [
        "## **Problem Statement:**\n",
        "### `Image Classification` - Solve the following Binary Classification Problem - Concrete Crack Images for Classification\n",
        "---\n",
        "### `Expected Output` -  \n",
        "Binary Classification of concrete crack images, whether the feeded image is positive (crack is there) or negative (crack is not there).\n",
        "\n"
      ],
      "metadata": {
        "id": "T3jWc-QnmsfV"
      }
    },
    {
      "cell_type": "markdown",
      "source": [
        "## **Dataset Description:**\n",
        "The dataset contains concrete images having cracks. The data is collected from various METU Campus Buildings.\n",
        "The dataset is divided into two as negative and positive crack images for image\n",
        "classification. Each class has 20000images with a total of 40000 images with 227 x 227 pixels with RGB channels. The dataset is generated from 458 high-resolution images (4032x3024 pixel) with the method proposed by Zhang et al (2016).\n",
        "**High-resolution images have variance in terms of surface finish and illumination\n",
        "conditions. No data augmentation in terms of random rotation or flipping is applied.**"
      ],
      "metadata": {
        "id": "viyKNycdowgc"
      }
    },
    {
      "cell_type": "markdown",
      "source": [
        "## **Link to download the dataset:**\n",
        "[Mendeley dataset](https://data.mendeley.com/api/datasets-v2/datasets/5y9wdsg2zt/zip/download?version=2)"
      ],
      "metadata": {
        "id": "2Ml8rBpzpQmH"
      }
    },
    {
      "cell_type": "markdown",
      "source": [
        "## **Methodology:**\n",
        "Two approaches have been implemented using both ANN and CNN for the binary classification.\n",
        "\n",
        "[Approach 1](https://github.com/Bakedpeddler100/Deep-Learning/blob/main/DL_Assignment1/Approach_1.ipynb)\n",
        "\n",
        "[Approach 2](https://github.com/Bakedpeddler100/Deep-Learning/blob/main/DL_Assignment1/Approach_2.ipynb)"
      ],
      "metadata": {
        "id": "RcIeKj9vphRt"
      }
    },
    {
      "cell_type": "markdown",
      "source": [
        "## **Experimental Analysis:**\n",
        "\n",
        "\n",
        "*   In Approach 1, we've used two dense hidden layers along with one output layer which helps in classifying positive and negative labelled images, whereas in Approach 2 we've used convolutional layers for extracting features and one dense layer to classify whether it is a positive or negative labelled images.\n",
        "*   In Approach 1 the accuracy is about 94%, whereas in Approach 2, the accuracy we've reached is 96% due to the more convolutional layers and hidden layers, having similar optimizer (Adam). \n",
        "\n",
        "\n",
        "\n"
      ],
      "metadata": {
        "id": "JIEm0YkIpxMA"
      }
    },
    {
      "cell_type": "markdown",
      "source": [
        "## **Conclusion:**\n",
        "Discovery of surface breaks is a significant errand in checking the underlying wellbeing of substantial designs. Assuming that breaks create and proceed to propogate, they diminish the successful burden bearing surface region and can over the long haul cause disappointment of the design. More dense layers are not added in the CNN approach, in order to avoid the \"overfitting\" case.\n",
        "\n",
        "This code can be used as a template for the other classification problems. \n",
        "\n"
      ],
      "metadata": {
        "id": "H9ZWgJBwqFym"
      }
    }
  ]
}
