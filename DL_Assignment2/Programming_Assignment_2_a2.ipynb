{
  "cells": [
    {
      "cell_type": "markdown",
      "source": [
        "#Text Classification using LSTM Model"
      ],
      "metadata": {
        "id": "vPu0jRsBATE5"
      }
    },
    {
      "cell_type": "markdown",
      "metadata": {
        "id": "995I91lZuMpv"
      },
      "source": [
        "## Data preprocessing"
      ]
    },
    {
      "cell_type": "code",
      "execution_count": null,
      "metadata": {
        "id": "9vBz7PdwuMqA"
      },
      "outputs": [],
      "source": [
        "import cv2\n",
        "import pandas as pd\n",
        "import numpy as np\n",
        "import os\n",
        "import matplotlib.pyplot as plt\n",
        "from matplotlib import cm\n",
        "import text_hammer as th\n",
        "import warnings\n",
        "warnings.filterwarnings('ignore')\n",
        "from tqdm import tqdm_notebook as tqdm"
      ]
    },
    {
      "cell_type": "code",
      "execution_count": null,
      "metadata": {
        "id": "CD-digd6uMqG"
      },
      "outputs": [],
      "source": [
        "df = pd.read_csv('data.csv')"
      ]
    },
    {
      "cell_type": "code",
      "execution_count": null,
      "metadata": {
        "id": "7Afz1S6MuMqI",
        "outputId": "bead7194-6af2-42f4-e4a0-d34add613545"
      },
      "outputs": [
        {
          "data": {
            "text/html": [
              "<div>\n",
              "<style scoped>\n",
              "    .dataframe tbody tr th:only-of-type {\n",
              "        vertical-align: middle;\n",
              "    }\n",
              "\n",
              "    .dataframe tbody tr th {\n",
              "        vertical-align: top;\n",
              "    }\n",
              "\n",
              "    .dataframe thead th {\n",
              "        text-align: right;\n",
              "    }\n",
              "</style>\n",
              "<table border=\"1\" class=\"dataframe\">\n",
              "  <thead>\n",
              "    <tr style=\"text-align: right;\">\n",
              "      <th></th>\n",
              "      <th>Sentence</th>\n",
              "      <th>Sentiment</th>\n",
              "    </tr>\n",
              "  </thead>\n",
              "  <tbody>\n",
              "    <tr>\n",
              "      <th>0</th>\n",
              "      <td>The GeoSolutions technology will leverage Bene...</td>\n",
              "      <td>positive</td>\n",
              "    </tr>\n",
              "    <tr>\n",
              "      <th>1</th>\n",
              "      <td>$ESI on lows, down $1.50 to $2.50 BK a real po...</td>\n",
              "      <td>negative</td>\n",
              "    </tr>\n",
              "    <tr>\n",
              "      <th>2</th>\n",
              "      <td>For the last quarter of 2010 , Componenta 's n...</td>\n",
              "      <td>positive</td>\n",
              "    </tr>\n",
              "    <tr>\n",
              "      <th>3</th>\n",
              "      <td>According to the Finnish-Russian Chamber of Co...</td>\n",
              "      <td>neutral</td>\n",
              "    </tr>\n",
              "    <tr>\n",
              "      <th>4</th>\n",
              "      <td>The Swedish buyout firm has sold its remaining...</td>\n",
              "      <td>neutral</td>\n",
              "    </tr>\n",
              "    <tr>\n",
              "      <th>5</th>\n",
              "      <td>$SPY wouldn't be surprised to see a green close</td>\n",
              "      <td>positive</td>\n",
              "    </tr>\n",
              "    <tr>\n",
              "      <th>6</th>\n",
              "      <td>Shell's $70 Billion BG Deal Meets Shareholder ...</td>\n",
              "      <td>negative</td>\n",
              "    </tr>\n",
              "    <tr>\n",
              "      <th>7</th>\n",
              "      <td>SSH COMMUNICATIONS SECURITY CORP STOCK EXCHANG...</td>\n",
              "      <td>negative</td>\n",
              "    </tr>\n",
              "    <tr>\n",
              "      <th>8</th>\n",
              "      <td>Kone 's net sales rose by some 14 % year-on-ye...</td>\n",
              "      <td>positive</td>\n",
              "    </tr>\n",
              "    <tr>\n",
              "      <th>9</th>\n",
              "      <td>The Stockmann department store will have a tot...</td>\n",
              "      <td>neutral</td>\n",
              "    </tr>\n",
              "  </tbody>\n",
              "</table>\n",
              "</div>"
            ],
            "text/plain": [
              "                                            Sentence Sentiment\n",
              "0  The GeoSolutions technology will leverage Bene...  positive\n",
              "1  $ESI on lows, down $1.50 to $2.50 BK a real po...  negative\n",
              "2  For the last quarter of 2010 , Componenta 's n...  positive\n",
              "3  According to the Finnish-Russian Chamber of Co...   neutral\n",
              "4  The Swedish buyout firm has sold its remaining...   neutral\n",
              "5    $SPY wouldn't be surprised to see a green close  positive\n",
              "6  Shell's $70 Billion BG Deal Meets Shareholder ...  negative\n",
              "7  SSH COMMUNICATIONS SECURITY CORP STOCK EXCHANG...  negative\n",
              "8  Kone 's net sales rose by some 14 % year-on-ye...  positive\n",
              "9  The Stockmann department store will have a tot...   neutral"
            ]
          },
          "execution_count": 6,
          "metadata": {},
          "output_type": "execute_result"
        }
      ],
      "source": [
        "df.head(10)"
      ]
    },
    {
      "cell_type": "code",
      "execution_count": null,
      "metadata": {
        "id": "irS_YD83uMqM",
        "outputId": "6c575ffa-807a-47c0-dd50-bcff55f9e27c"
      },
      "outputs": [
        {
          "data": {
            "text/html": [
              "<div>\n",
              "<style scoped>\n",
              "    .dataframe tbody tr th:only-of-type {\n",
              "        vertical-align: middle;\n",
              "    }\n",
              "\n",
              "    .dataframe tbody tr th {\n",
              "        vertical-align: top;\n",
              "    }\n",
              "\n",
              "    .dataframe thead th {\n",
              "        text-align: right;\n",
              "    }\n",
              "</style>\n",
              "<table border=\"1\" class=\"dataframe\">\n",
              "  <thead>\n",
              "    <tr style=\"text-align: right;\">\n",
              "      <th></th>\n",
              "      <th>Sentence</th>\n",
              "      <th>Sentiment</th>\n",
              "      <th>len</th>\n",
              "    </tr>\n",
              "  </thead>\n",
              "  <tbody>\n",
              "    <tr>\n",
              "      <th>0</th>\n",
              "      <td>The GeoSolutions technology will leverage Bene...</td>\n",
              "      <td>positive</td>\n",
              "      <td>32</td>\n",
              "    </tr>\n",
              "    <tr>\n",
              "      <th>1</th>\n",
              "      <td>$ESI on lows, down $1.50 to $2.50 BK a real po...</td>\n",
              "      <td>negative</td>\n",
              "      <td>11</td>\n",
              "    </tr>\n",
              "    <tr>\n",
              "      <th>2</th>\n",
              "      <td>For the last quarter of 2010 , Componenta 's n...</td>\n",
              "      <td>positive</td>\n",
              "      <td>39</td>\n",
              "    </tr>\n",
              "    <tr>\n",
              "      <th>3</th>\n",
              "      <td>According to the Finnish-Russian Chamber of Co...</td>\n",
              "      <td>neutral</td>\n",
              "      <td>20</td>\n",
              "    </tr>\n",
              "    <tr>\n",
              "      <th>4</th>\n",
              "      <td>The Swedish buyout firm has sold its remaining...</td>\n",
              "      <td>neutral</td>\n",
              "      <td>23</td>\n",
              "    </tr>\n",
              "  </tbody>\n",
              "</table>\n",
              "</div>"
            ],
            "text/plain": [
              "                                            Sentence Sentiment  len\n",
              "0  The GeoSolutions technology will leverage Bene...  positive   32\n",
              "1  $ESI on lows, down $1.50 to $2.50 BK a real po...  negative   11\n",
              "2  For the last quarter of 2010 , Componenta 's n...  positive   39\n",
              "3  According to the Finnish-Russian Chamber of Co...   neutral   20\n",
              "4  The Swedish buyout firm has sold its remaining...   neutral   23"
            ]
          },
          "execution_count": 14,
          "metadata": {},
          "output_type": "execute_result"
        }
      ],
      "source": [
        "df['len'] = list(map(lambda x: len(str(x).split(' ')),df['Sentence']))\n",
        "df.head()"
      ]
    },
    {
      "cell_type": "code",
      "execution_count": null,
      "metadata": {
        "id": "07nxr0sSuMqN",
        "outputId": "6333ea3e-1531-4642-9c6e-2e8a7c3ad622"
      },
      "outputs": [
        {
          "data": {
            "text/html": [
              "<div>\n",
              "<style scoped>\n",
              "    .dataframe tbody tr th:only-of-type {\n",
              "        vertical-align: middle;\n",
              "    }\n",
              "\n",
              "    .dataframe tbody tr th {\n",
              "        vertical-align: top;\n",
              "    }\n",
              "\n",
              "    .dataframe thead th {\n",
              "        text-align: right;\n",
              "    }\n",
              "</style>\n",
              "<table border=\"1\" class=\"dataframe\">\n",
              "  <thead>\n",
              "    <tr style=\"text-align: right;\">\n",
              "      <th></th>\n",
              "      <th>Sentence</th>\n",
              "      <th>Sentiment</th>\n",
              "      <th>len</th>\n",
              "    </tr>\n",
              "  </thead>\n",
              "  <tbody>\n",
              "    <tr>\n",
              "      <th>0</th>\n",
              "      <td>The GeoSolutions technology will leverage Bene...</td>\n",
              "      <td>0</td>\n",
              "      <td>32</td>\n",
              "    </tr>\n",
              "    <tr>\n",
              "      <th>1</th>\n",
              "      <td>$ESI on lows, down $1.50 to $2.50 BK a real po...</td>\n",
              "      <td>1</td>\n",
              "      <td>11</td>\n",
              "    </tr>\n",
              "    <tr>\n",
              "      <th>2</th>\n",
              "      <td>For the last quarter of 2010 , Componenta 's n...</td>\n",
              "      <td>0</td>\n",
              "      <td>39</td>\n",
              "    </tr>\n",
              "    <tr>\n",
              "      <th>3</th>\n",
              "      <td>According to the Finnish-Russian Chamber of Co...</td>\n",
              "      <td>2</td>\n",
              "      <td>20</td>\n",
              "    </tr>\n",
              "    <tr>\n",
              "      <th>4</th>\n",
              "      <td>The Swedish buyout firm has sold its remaining...</td>\n",
              "      <td>2</td>\n",
              "      <td>23</td>\n",
              "    </tr>\n",
              "  </tbody>\n",
              "</table>\n",
              "</div>"
            ],
            "text/plain": [
              "                                            Sentence  Sentiment  len\n",
              "0  The GeoSolutions technology will leverage Bene...          0   32\n",
              "1  $ESI on lows, down $1.50 to $2.50 BK a real po...          1   11\n",
              "2  For the last quarter of 2010 , Componenta 's n...          0   39\n",
              "3  According to the Finnish-Russian Chamber of Co...          2   20\n",
              "4  The Swedish buyout firm has sold its remaining...          2   23"
            ]
          },
          "execution_count": 19,
          "metadata": {},
          "output_type": "execute_result"
        }
      ],
      "source": [
        "mapdf = {'positive':0,'negative':1,'neutral':2}\n",
        "df['Sentiment'] = list(map(lambda x:mapdf[x],df['Sentiment']))\n",
        "df.head()"
      ]
    },
    {
      "cell_type": "code",
      "execution_count": null,
      "metadata": {
        "id": "QfuFN_gBuMqP",
        "outputId": "e6b51ab3-d813-4f5d-a0f1-19a0337d5206"
      },
      "outputs": [
        {
          "name": "stdout",
          "output_type": "stream",
          "text": [
            "0.10137114484667775\n"
          ]
        }
      ],
      "source": [
        "print(df['Sentiment'].corr(df['len']))"
      ]
    },
    {
      "cell_type": "code",
      "execution_count": null,
      "metadata": {
        "id": "lHLT9nIeuMqS"
      },
      "outputs": [],
      "source": [
        "sentences = df['Sentence'].copy()[:]\n",
        "sentences = sentences.to_list()\n",
        "sentences = list(map(lambda x: x.lower(),sentences))\n",
        "sentences = list(map(lambda x: th.cont_exp(x),sentences))\n",
        "sentences = list(map(lambda x: th.remove_emails(x),sentences))\n",
        "sentences = list(map(lambda x: th.remove_emails(x),sentences))\n",
        "sentences = list(map(lambda x: th.remove_html_tags(x),sentences))\n",
        "sentences = list(map(lambda x: th.remove_stopwords(x),sentences))\n",
        "sentences = list(map(lambda x: th.remove_special_chars(x),sentences))\n",
        "sentences = list(map(lambda x: th.remove_accented_chars(x),sentences))\n",
        "sentences = list(map(lambda x: th.make_base(x),sentences))"
      ]
    },
    {
      "cell_type": "code",
      "execution_count": null,
      "metadata": {
        "id": "eXXbSgHhuMqV",
        "outputId": "5f0e01ff-d77a-476a-dbb1-ce377116982c"
      },
      "outputs": [
        {
          "data": {
            "text/plain": [
              "['geosolution technology leverage benefon global positioning system solution provide location base search technology community platform location relevant multimedia content new powerful commercial model',\n",
              " 'esi low 150 250 bk real possibility',\n",
              " 'quarter 2010 componenta net sale double eur131 m eur76 m period year early move zero pretax profit pretax loss eur7 m']"
            ]
          },
          "execution_count": 33,
          "metadata": {},
          "output_type": "execute_result"
        }
      ],
      "source": [
        "sentences[:3]"
      ]
    },
    {
      "cell_type": "code",
      "execution_count": null,
      "metadata": {
        "id": "TVftHyp5uMqY"
      },
      "outputs": [],
      "source": [
        "from sklearn.model_selection import train_test_split\n",
        "from keras.utils.all_utils import to_categorical\n",
        "y = to_categorical(df['Sentiment'])\n",
        "x = sentences.copy()\n",
        "X_train,X_test, y_train,y_test = train_test_split(x,y,test_size=0.3,stratify=y,random_state=42)"
      ]
    },
    {
      "cell_type": "markdown",
      "metadata": {
        "id": "oaTnEa8fuMqa"
      },
      "source": [
        "## Vectorization"
      ]
    },
    {
      "cell_type": "code",
      "execution_count": null,
      "metadata": {
        "id": "RNvHXqi2uMqb"
      },
      "outputs": [],
      "source": [
        "from keras.preprocessing.text import Tokenizer\n",
        "num_words = 12000 \n",
        "tokenizer=Tokenizer(num_words,lower=True)\n",
        "df_total = pd.concat([pd.Series(X_train), pd.Series(X_test)], axis = 0)\n",
        "tokenizer.fit_on_texts(df_total)"
      ]
    },
    {
      "cell_type": "code",
      "execution_count": null,
      "metadata": {
        "id": "B4--tLAnuMqe"
      },
      "outputs": [],
      "source": [
        "from keras.preprocessing.sequence import pad_sequences\n",
        "\n",
        "X_train_ =tokenizer.texts_to_sequences(X_train)\n",
        "X_train_pad=pad_sequences(X_train_,maxlen=81,padding='post')\n",
        "X_test_ = tokenizer.texts_to_sequences(X_test)\n",
        "X_test_pad = pad_sequences(X_test_, maxlen = 81, padding = 'post')"
      ]
    },
    {
      "cell_type": "code",
      "execution_count": null,
      "metadata": {
        "id": "I4Odd4RXuMqh",
        "outputId": "c7de96ff-2b12-4c3c-a931-2bebdaa2a767"
      },
      "outputs": [
        {
          "name": "stdout",
          "output_type": "stream",
          "text": [
            "(4089, 81) (1753, 81)\n"
          ]
        }
      ],
      "source": [
        "print(X_train_pad.shape,X_test_pad.shape)"
      ]
    },
    {
      "cell_type": "markdown",
      "metadata": {
        "id": "uhBxEe1suMqm"
      },
      "source": [
        "## Model Building "
      ]
    },
    {
      "cell_type": "code",
      "execution_count": null,
      "metadata": {
        "id": "Yv5Y3CrvuMqn"
      },
      "outputs": [],
      "source": [
        "from keras.models import Sequential\n",
        "from keras.layers import LSTM,Dense,Bidirectional,Embedding,Dropout"
      ]
    },
    {
      "cell_type": "code",
      "execution_count": null,
      "metadata": {
        "id": "RdIzgx-GuMqp"
      },
      "outputs": [],
      "source": [
        "lstm = Sequential()\n",
        "lstm.add(Embedding(input_dim = num_words,\n",
        "                          output_dim = 100,\n",
        "                          input_length= X_train_pad.shape[1]))\n",
        "lstm.add(Dropout(0.2))\n",
        "lstm.add(Bidirectional(LSTM(100,return_sequences=True)))\n",
        "lstm.add(Dropout(0.2))\n",
        "lstm.add(Bidirectional(LSTM(200,return_sequences=True)))\n",
        "lstm.add(Dropout(0.2))\n",
        "lstm.add(Bidirectional(LSTM(100,return_sequences=False)))\n",
        "lstm.add(Dense(64,activation='tanh'))\n",
        "lstm.add(Dropout(0.2))\n",
        "lstm.add(Dense(32,activation='tanh'))\n",
        "lstm.add(Dropout(0.2))\n",
        "lstm.add(Dense(10,activation='tanh'))\n",
        "lstm.add(Dense(3,activation='softmax'))"
      ]
    },
    {
      "cell_type": "code",
      "execution_count": null,
      "metadata": {
        "id": "TNcnMRqhuMqr"
      },
      "outputs": [],
      "source": [
        "lstm.compile(optimizer='adam',loss='categorical_crossentropy',metrics=['accuracy'])"
      ]
    },
    {
      "cell_type": "code",
      "execution_count": null,
      "metadata": {
        "id": "s29V14t5uMqt",
        "outputId": "24e6de6e-4d0e-4795-8f3a-78f1133e4af0"
      },
      "outputs": [
        {
          "name": "stdout",
          "output_type": "stream",
          "text": [
            "Model: \"sequential_3\"\n",
            "_________________________________________________________________\n",
            " Layer (type)                Output Shape              Param #   \n",
            "=================================================================\n",
            " embedding_3 (Embedding)     (None, 81, 100)           1200000   \n",
            "                                                                 \n",
            " dropout_6 (Dropout)         (None, 81, 100)           0         \n",
            "                                                                 \n",
            " bidirectional_4 (Bidirectio  (None, 81, 200)          160800    \n",
            " nal)                                                            \n",
            "                                                                 \n",
            " dropout_7 (Dropout)         (None, 81, 200)           0         \n",
            "                                                                 \n",
            " bidirectional_5 (Bidirectio  (None, 81, 400)          641600    \n",
            " nal)                                                            \n",
            "                                                                 \n",
            " dropout_8 (Dropout)         (None, 81, 400)           0         \n",
            "                                                                 \n",
            " bidirectional_6 (Bidirectio  (None, 200)              400800    \n",
            " nal)                                                            \n",
            "                                                                 \n",
            " dense_4 (Dense)             (None, 64)                12864     \n",
            "                                                                 \n",
            " dropout_9 (Dropout)         (None, 64)                0         \n",
            "                                                                 \n",
            " dense_5 (Dense)             (None, 32)                2080      \n",
            "                                                                 \n",
            " dropout_10 (Dropout)        (None, 32)                0         \n",
            "                                                                 \n",
            " dense_6 (Dense)             (None, 10)                330       \n",
            "                                                                 \n",
            " dense_7 (Dense)             (None, 3)                 33        \n",
            "                                                                 \n",
            "=================================================================\n",
            "Total params: 2,418,507\n",
            "Trainable params: 2,418,507\n",
            "Non-trainable params: 0\n",
            "_________________________________________________________________\n"
          ]
        }
      ],
      "source": [
        "lstm.summary()"
      ]
    },
    {
      "cell_type": "code",
      "execution_count": null,
      "metadata": {
        "id": "uzfQGBMjuMqv"
      },
      "outputs": [],
      "source": [
        "from keras.callbacks import EarlyStopping, ModelCheckpoint\n",
        "es = EarlyStopping(monitor = 'val_loss', mode = 'min', verbose = 1, patience = 5)\n",
        "mc = ModelCheckpoint('./model.h5', monitor = 'val_accuracy', mode = 'max', verbose = 1, save_best_only = True)"
      ]
    },
    {
      "cell_type": "markdown",
      "source": [
        "## Model Fitting"
      ],
      "metadata": {
        "id": "1rql840-AfNh"
      }
    },
    {
      "cell_type": "code",
      "execution_count": null,
      "metadata": {
        "id": "QMaATexuuMqx",
        "outputId": "8391455d-e5ef-41c4-d089-91e04cfa6371"
      },
      "outputs": [
        {
          "name": "stdout",
          "output_type": "stream",
          "text": [
            "Epoch 1/10\n",
            "64/64 [==============================] - ETA: 0s - loss: 0.9757 - accuracy: 0.5412\n",
            "Epoch 00001: val_accuracy improved from -inf to 0.63776, saving model to .\\model.h5\n",
            "64/64 [==============================] - 15s 131ms/step - loss: 0.9757 - accuracy: 0.5412 - val_loss: 0.8713 - val_accuracy: 0.6378\n",
            "Epoch 2/10\n",
            "64/64 [==============================] - ETA: 0s - loss: 0.6482 - accuracy: 0.7386\n",
            "Epoch 00002: val_accuracy improved from 0.63776 to 0.66343, saving model to .\\model.h5\n",
            "64/64 [==============================] - 7s 103ms/step - loss: 0.6482 - accuracy: 0.7386 - val_loss: 0.7741 - val_accuracy: 0.6634\n",
            "Epoch 3/10\n",
            "64/64 [==============================] - ETA: 0s - loss: 0.3840 - accuracy: 0.8459\n",
            "Epoch 00003: val_accuracy improved from 0.66343 to 0.68568, saving model to .\\model.h5\n",
            "64/64 [==============================] - 7s 103ms/step - loss: 0.3840 - accuracy: 0.8459 - val_loss: 0.8131 - val_accuracy: 0.6857\n",
            "Epoch 4/10\n",
            "64/64 [==============================] - ETA: 0s - loss: 0.2499 - accuracy: 0.8992\n",
            "Epoch 00004: val_accuracy did not improve from 0.68568\n",
            "64/64 [==============================] - 7s 103ms/step - loss: 0.2499 - accuracy: 0.8992 - val_loss: 1.0387 - val_accuracy: 0.6646\n",
            "Epoch 5/10\n",
            "64/64 [==============================] - ETA: 0s - loss: 0.2038 - accuracy: 0.9017 ETA: \n",
            "Epoch 00005: val_accuracy did not improve from 0.68568\n",
            "64/64 [==============================] - 7s 103ms/step - loss: 0.2038 - accuracy: 0.9017 - val_loss: 1.1790 - val_accuracy: 0.6492\n",
            "Epoch 6/10\n",
            "64/64 [==============================] - ETA: 0s - loss: 0.1643 - accuracy: 0.9235\n",
            "Epoch 00006: val_accuracy did not improve from 0.68568\n",
            "64/64 [==============================] - 7s 103ms/step - loss: 0.1643 - accuracy: 0.9235 - val_loss: 1.1911 - val_accuracy: 0.6515\n",
            "Epoch 7/10\n",
            "64/64 [==============================] - ETA: 0s - loss: 0.1631 - accuracy: 0.9232\n",
            "Epoch 00007: val_accuracy did not improve from 0.68568\n",
            "64/64 [==============================] - 7s 104ms/step - loss: 0.1631 - accuracy: 0.9232 - val_loss: 1.2840 - val_accuracy: 0.6383\n",
            "Epoch 00007: early stopping\n"
          ]
        }
      ],
      "source": [
        "lstm_history = lstm.fit(X_train_pad,y_train, epochs = 10, batch_size = 64, validation_data=(X_test_pad, y_test),verbose = 1, callbacks= [es, mc])"
      ]
    },
    {
      "cell_type": "markdown",
      "source": [
        "## Model Visual Analysis"
      ],
      "metadata": {
        "id": "qCj15GQFAieV"
      }
    },
    {
      "cell_type": "code",
      "execution_count": null,
      "metadata": {
        "id": "lqJvCST5uMqy",
        "outputId": "54253c34-d051-468a-934c-634a391d4200"
      },
      "outputs": [
        {
          "data": {
            "image/png": "[encoded data removed]",
            "text/plain": [
              "<Figure size 432x288 with 1 Axes>"
            ]
          },
          "metadata": {},
          "output_type": "display_data"
        }
      ],
      "source": [
        "plt.plot(lstm_history.history['accuracy'], label='Train Data')\n",
        "plt.plot(lstm_history.history['val_accuracy'], label='Test Data')\n",
        "plt.xlabel('Epoch')\n",
        "plt.ylabel('Accuracy')\n",
        "#plt.ylim([0.8, 1])\n",
        "plt.legend(loc='best')\n",
        "plt.show()"
      ]
    },
    {
      "cell_type": "code",
      "execution_count": null,
      "metadata": {
        "id": "ndgVbtRcuMq1",
        "outputId": "7d0605a8-6212-4af2-e75c-13bf93dc7cb9"
      },
      "outputs": [
        {
          "data": {
            "image/png": "[encoded data removed]",
            "text/plain": [
              "<Figure size 432x288 with 1 Axes>"
            ]
          },
          "metadata": {},
          "output_type": "display_data"
        }
      ],
      "source": [
        "plt.plot(lstm_history.history['loss'], label='Train loss')\n",
        "plt.plot(lstm_history.history['val_loss'], label='Test loss')\n",
        "plt.xlabel('Epoch')\n",
        "plt.ylabel('Loss')\n",
        "plt.legend(loc='best')\n",
        "plt.show()"
      ]
    },
    {
      "cell_type": "markdown",
      "source": [
        "## Model Summary"
      ],
      "metadata": {
        "id": "QAw9OhXSAoeu"
      }
    },
    {
      "cell_type": "code",
      "execution_count": null,
      "metadata": {
        "id": "wh6Q8zrpuMq4",
        "outputId": "d4930431-ee4d-45d3-ae24-b084843f1545"
      },
      "outputs": [
        {
          "name": "stdout",
          "output_type": "stream",
          "text": [
            "              precision    recall  f1-score   support\n",
            "\n",
            "    positive       0.71      0.63      0.67       556\n",
            "    negative       0.29      0.32      0.30       258\n",
            "     neutral       0.71      0.73      0.72       939\n",
            "\n",
            "    accuracy                           0.64      1753\n",
            "   macro avg       0.57      0.56      0.56      1753\n",
            "weighted avg       0.65      0.64      0.64      1753\n",
            "\n"
          ]
        }
      ],
      "source": [
        "from sklearn.metrics import classification_report\n",
        "predictions = lstm.predict(X_test_pad)\n",
        "target_names=['positive','negative','neutral']\n",
        "print(classification_report(np.argmax(y_test,axis=1),np.argmax(predictions,axis=1),target_names=target_names))"
      ]
    }
  ],
  "metadata": {
    "kernelspec": {
      "display_name": "Python 3",
      "language": "python",
      "name": "python3"
    },
    "language_info": {
      "codemirror_mode": {
        "name": "ipython",
        "version": 3
      },
      "file_extension": ".py",
      "mimetype": "text/x-python",
      "name": "python",
      "nbconvert_exporter": "python",
      "pygments_lexer": "ipython3",
      "version": "3.8.8"
    },
    "colab": {
      "name": "Programming-Assignment_2-a2.ipynb",
      "provenance": []
    }
  },
  "nbformat": 4,
  "nbformat_minor": 0
}