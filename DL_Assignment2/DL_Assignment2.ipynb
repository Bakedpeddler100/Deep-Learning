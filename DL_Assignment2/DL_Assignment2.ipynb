{
  "nbformat": 4,
  "nbformat_minor": 0,
  "metadata": {
    "colab": {
      "name": "DL_Assignment2.ipynb",
      "provenance": []
    },
    "kernelspec": {
      "name": "python3",
      "display_name": "Python 3"
    },
    "language_info": {
      "name": "python"
    }
  },
  "cells": [
    {
      "cell_type": "markdown",
      "source": [
        "# **Deep Learning Programming Assignment**\n",
        "> #### Submitted by: Khyati Gaur (190119) | Grandhi Manasa (190075)"
      ],
      "metadata": {
        "id": "7XpmAK_il3Dd"
      }
    },
    {
      "cell_type": "markdown",
      "source": [
        "## **Problem Statement:**\n",
        "### `Text Classification` - Solve the following Multi-class Classification Problem – Cyberbullying Classification\n",
        "---\n",
        "### `Expected Output` -  \n",
        "Multi-class text classification of the tweets and classifying them according to categories ( for example: not cyberbullying, religion, etc)."
      ],
      "metadata": {
        "id": "T3jWc-QnmsfV"
      }
    },
    {
      "cell_type": "markdown",
      "source": [
        "## **Dataset Description:**\n",
        "On April 15th, 2020, UNICEF issued a warning in response to the increased risk of cyberbullying during the COVID-19 pandemic due to widespread school closures, increased screen time, and decreased face-to-face social interaction. The statistics of cyberbullying are outright alarming: 36.5% of middle and high school students have felt cyberbullied and 87% have observed cyberbullying, with effects ranging from decreased academic performance to depression to suicidal thoughts.\n",
        "\n",
        "In light of all of this, this dataset contains more than 47000 tweets labelled according to the class of cyberbullying:\n",
        "*   Age\n",
        "*   Gender\n",
        "*   Ethnicity\n",
        "*   Religion\n",
        "*   Other Type of Cyberbullying\n",
        "*   Not Cyberbullying\n",
        "\n",
        "**The data has been balanced in order to contain ~8000 of each class.**\n"
      ],
      "metadata": {
        "id": "viyKNycdowgc"
      }
    },
    {
      "cell_type": "markdown",
      "source": [
        "## **Link to download the dataset:**\n",
        "[Kaggle dataset](https://www.kaggle.com/datasets/andrewmvd/cyberbullying-classification)"
      ],
      "metadata": {
        "id": "2Ml8rBpzpQmH"
      }
    },
    {
      "cell_type": "markdown",
      "source": [
        "## **Methodology:**\n",
        "Two approaches have been implemented using both Word2Vec and LSTM for the multi-class text classification.\n",
        "\n",
        "[Approach 1](https://colab.research.google.com/drive/1pSrz2a4ImmMJVRXRyPnu-rqZuzOQYV-n#scrollTo=8q17mVbw2sng)\n",
        "\n",
        "[Approach 2](https://colab.research.google.com/drive/1v55HcC63QxlaqOd1lAlk3l05zS5Hpf9_#scrollTo=fzzfLLIsuXRJ)"
      ],
      "metadata": {
        "id": "RcIeKj9vphRt"
      }
    },
    {
      "cell_type": "markdown",
      "source": [
        "## **Experimental Analysis:**\n",
        "\n",
        "\n",
        "*   In Approach 1, we've used Word2Vec Model where it takes texts as training data for the neural network. The resulting embedding captures whether words appear in similar contexts or not whereas in Approach 2 we've used LSTM model which enables us to input sequence data into a network, and make predictions based on the individual time steps of the sequence data.\n",
        "*   In Approach 1 the accuracy is about 69%, whereas in Approach 2, the accuracy we've reached is 64% and can reach to similar accuracy as of approach 1, if GloVe along with LSTM is used. \n",
        "\n",
        "\n",
        "\n"
      ],
      "metadata": {
        "id": "JIEm0YkIpxMA"
      }
    },
    {
      "cell_type": "markdown",
      "source": [
        "## **Conclusion:**\n",
        "Trigger Warning: These tweets either describe a bullying event or are the offense themselves, therefore explore it to the point where you feel comfortable.\n",
        "We have created a multiclassification model to predict cyberbullying type and also explored the words and patterns associated with each type of cyberbullying.\n",
        "Deep learning text classification approaches have been used to build the model to classify every tweets according to their classes. \n"
      ],
      "metadata": {
        "id": "H9ZWgJBwqFym"
      }
    }
  ]
}